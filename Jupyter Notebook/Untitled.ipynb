{
 "cells": [
  {
   "cell_type": "code",
   "execution_count": null,
   "metadata": {},
   "outputs": [],
   "source": [
    "sec_num = 9\n",
    "num_of_guess = 0\n",
    "end_of_guess = False\n",
    "guess = 0\n",
    "while guess != sec_num and end_of_guess == False:\n",
    "    if num_of_guess < 3:\n",
    "        print(\"Enter a number:\")\n",
    "        guess = int(input())\n",
    "    else:\n",
    "        end_of_guess  = True\n",
    "if end_of_guess:\n",
    "    print(\"LOSE!!!\")\n",
    "else:\n",
    "    print(\"WINNNNNN!!!!\")"
   ]
  },
  {
   "cell_type": "code",
   "execution_count": null,
   "metadata": {},
   "outputs": [],
   "source": []
  },
  {
   "cell_type": "code",
   "execution_count": null,
   "metadata": {},
   "outputs": [],
   "source": []
  }
 ],
 "metadata": {
  "kernelspec": {
   "display_name": "Python 3",
   "language": "python",
   "name": "python3"
  },
  "language_info": {
   "codemirror_mode": {
    "name": "ipython",
    "version": 3
   },
   "file_extension": ".py",
   "mimetype": "text/x-python",
   "name": "python",
   "nbconvert_exporter": "python",
   "pygments_lexer": "ipython3",
   "version": "3.8.3"
  }
 },
 "nbformat": 4,
 "nbformat_minor": 4
}
